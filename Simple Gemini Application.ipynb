{
 "cells": [
  {
   "cell_type": "code",
   "execution_count": null,
   "id": "674b6612-bc0e-4faf-bda3-b1577258322d",
   "metadata": {},
   "outputs": [],
   "source": [
    "from dotenv import load_dotenv\n",
    "load_dotenv() # Load all environment wariables from .env\n",
    "\n",
    "import streamlit as st\n",
    "import os \n",
    "from PIL import Image\n",
    "import google.generativeai as genai"
   ]
  },
  {
   "cell_type": "code",
   "execution_count": null,
   "id": "b041505a-bc2c-4e4f-890e-89b44d53b2fd",
   "metadata": {},
   "outputs": [],
   "source": [
    "GOOGLE_API_KEY = \"GOOGLE_API_KEY\""
   ]
  },
  {
   "cell_type": "code",
   "execution_count": null,
   "id": "872ec360-5e45-46ae-8a88-975a83ad72aa",
   "metadata": {},
   "outputs": [],
   "source": [
    "# Configuring API key\n",
    "genai.configure(api_key=GOOGLE_API_KEY) #os.getenv(\"GOOGLE_API_KEY\"))"
   ]
  },
  {
   "cell_type": "code",
   "execution_count": null,
   "id": "511b8a18-7bc5-4a06-9695-70febd83b558",
   "metadata": {},
   "outputs": [],
   "source": [
    "# Function to load Gemini Pro Vision model and get response\n",
    "def get_gemini_response(input, image, prompt):\n",
    "    # Loading the Gemini model\n",
    "    model = genai.GenerativeModel(\"gemini-pro-vision\")\n",
    "    response = model.generate_content([input, image[0], prompt])\n",
    "    return response.text"
   ]
  },
  {
   "cell_type": "code",
   "execution_count": null,
   "id": "c176acf2-3505-47ea-9846-59b013b064ca",
   "metadata": {},
   "outputs": [],
   "source": [
    "def input_image_setup(uploaded_file):\n",
    "    if uploaded_file is not None:\n",
    "        bytes_data = uploaded_file.getvalue()\n",
    "\n",
    "        image_parts = [\n",
    "            {\n",
    "                \"mime_type\":uploaded_file.type, # Get the mime type of the uploaded file\n",
    "                \"data\":bytes_data\n",
    "            }\n",
    "        ]\n",
    "        return image_parts\n",
    "\n",
    "    else:\n",
    "        raise FileNotFoundError(\"No file uploaded : \")"
   ]
  },
  {
   "cell_type": "code",
   "execution_count": null,
   "id": "4df68bca-b86f-481a-94c5-bb69e31bb115",
   "metadata": {},
   "outputs": [],
   "source": [
    "# Initialize our streamlit app\n",
    "st.set_page_config(page_title=\"Invoice Extractor\")\n",
    "\n",
    "st.header(\"Gemini Application\")\n",
    "input = st.text_input(\"Input Prompt: \", key=\"input\")\n",
    "uploaded_file = st.file_uploader(\"Choose an image ...\", type=[\"jpg\", \"jpeg\", \"png\", \"pdf\"])\n",
    "image = \"\"\n",
    "if uploaded_file is not None:\n",
    "    image = Image.open(uploaded_file)\n",
    "    st.image(image, caption=\"Uploaded Image. \", use_column_width=True)"
   ]
  },
  {
   "cell_type": "code",
   "execution_count": null,
   "id": "c49661bc-6008-4e81-953a-33fc5a43f51d",
   "metadata": {},
   "outputs": [],
   "source": [
    "submit = st.button(\"Tell me about the invoice\")"
   ]
  },
  {
   "cell_type": "code",
   "execution_count": null,
   "id": "0b1eb6b3-1842-492f-a5a7-3e0aae1032dc",
   "metadata": {},
   "outputs": [],
   "source": [
    "input_prompt = \"\"\"\n",
    "You are an expert in understanding invoices, You will\n",
    "recieve input images as invoices and you will have to\n",
    "answer questions based on the input image.\n",
    "\"\"\""
   ]
  },
  {
   "cell_type": "code",
   "execution_count": null,
   "id": "3dea8e29-8c4c-4b2a-beb4-02ea06c0fff2",
   "metadata": {},
   "outputs": [],
   "source": [
    "# if submit button is clicked\n",
    "if submit:\n",
    "    image_data = input_image_setup(uploaded_file)\n",
    "    response = get_gemini_response(input_prompt, image_data, input)\n",
    "\n",
    "    st.subheader(\"The Response is: \")\n",
    "    st.write(response)"
   ]
  }
 ],
 "metadata": {
  "kernelspec": {
   "display_name": "Python 3 (ipykernel)",
   "language": "python",
   "name": "python3"
  },
  "language_info": {
   "codemirror_mode": {
    "name": "ipython",
    "version": 3
   },
   "file_extension": ".py",
   "mimetype": "text/x-python",
   "name": "python",
   "nbconvert_exporter": "python",
   "pygments_lexer": "ipython3",
   "version": "3.11.5"
  }
 },
 "nbformat": 4,
 "nbformat_minor": 5
}
