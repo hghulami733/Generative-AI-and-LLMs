{
 "cells": [
  {
   "cell_type": "code",
   "execution_count": null,
   "id": "adb7fc5a-3a60-45a7-9ed6-7dc338bec5c3",
   "metadata": {},
   "outputs": [],
   "source": [
    "from langchain import PromptTemplate\n",
    "from langchain.chains import RetrievalQA\n",
    "from langchain.embeddings import HuggingFaceBgeEmbeddings\n",
    "from langchain.vectorstores import Pinecone\n",
    "import pinecone\n",
    "from langchain.document_loaders import PyPDFLoader PyMuPDFLoader, DirectoryLoader\n",
    "from langchain.text_splitter import RecursiveCharacterTextSplitter\n",
    "from langchain.prompts import PromptTemplate\n",
    "from langchain.llms import CTransformers"
   ]
  },
  {
   "cell_type": "code",
   "execution_count": 3,
   "id": "3011800a-3531-48ce-8f7c-952d1072de49",
   "metadata": {},
   "outputs": [],
   "source": [
    "pinecone_api_key = \"pinecone-api-key\""
   ]
  },
  {
   "cell_type": "code",
   "execution_count": 4,
   "id": "1157dd5e-ca87-49b1-b17d-5419e5da6a41",
   "metadata": {},
   "outputs": [],
   "source": [
    "PINECONE_API_ENV = \"index-name\""
   ]
  },
  {
   "cell_type": "code",
   "execution_count": 5,
   "id": "92f50894-4528-4338-9e5e-0e83a5ad04fd",
   "metadata": {},
   "outputs": [],
   "source": [
    "# Extract data from PDF\n",
    "def load_pdf(pdf_path):\n",
    "    loader = DirectoryLoader(pdf_path,\n",
    "                   glob=\"*.pdf\",\n",
    "                   loader_cls=PyPDFLoader)\n",
    "\n",
    "    documents = loader.load()\n",
    "\n",
    "    return documents"
   ]
  },
  {
   "cell_type": "code",
   "execution_count": 6,
   "id": "d0d2548f-606a-4003-9fd2-4e666e37dbb7",
   "metadata": {},
   "outputs": [],
   "source": [
    "model = \"llama-2-7b-chat.ggmlv3.g4_0.bin\""
   ]
  },
  {
   "cell_type": "code",
   "execution_count": null,
   "id": "4ecf3752-a5c1-41d0-ad21-9b4ecd983d10",
   "metadata": {},
   "outputs": [],
   "source": [
    "extracted_data = load_pdf(\"data/medical_book.pdf\")"
   ]
  },
  {
   "cell_type": "markdown",
   "id": "4d8ae1ec-5a42-4a18-8976-53bd8b2169ed",
   "metadata": {},
   "source": [
    "# Create text chunks"
   ]
  },
  {
   "cell_type": "code",
   "execution_count": 7,
   "id": "8e8b7c3d-e753-4c49-83e0-e3cbd55906fb",
   "metadata": {},
   "outputs": [],
   "source": [
    "def text_slpite(extracted_data):\n",
    "    text_splitter = RecursiveCharacterTextSplitter(chunk_size=500, chunk_overlab=20)\n",
    "    text_chunks = text_splitter.split_socuments(extracted_data)\n",
    "    return text_chunks"
   ]
  },
  {
   "cell_type": "code",
   "execution_count": null,
   "id": "24095efd-9ef1-456b-a06a-db101eb15e84",
   "metadata": {},
   "outputs": [],
   "source": [
    "text_chunks = text_slpite(extracted_data)\n",
    "print(f\"Length of my chunks: {len(text_chunks)}\")"
   ]
  },
  {
   "cell_type": "code",
   "execution_count": 8,
   "id": "0e3d8104-3d3e-456a-89ea-d2cc8b89b43e",
   "metadata": {},
   "outputs": [],
   "source": [
    "# Download Embeding model\n",
    "def download_huggingface_embedding():\n",
    "    embeding = HuggingFaceEmbedding(model_name=\"sentence-transformers/all-MiniLM-L6-v2\")\n",
    "    return embeding"
   ]
  },
  {
   "cell_type": "code",
   "execution_count": null,
   "id": "a73803cc-6240-4da7-96e8-997c4f097e8d",
   "metadata": {},
   "outputs": [],
   "source": [
    "embedding_text = download_huggingface_embedding()"
   ]
  },
  {
   "cell_type": "code",
   "execution_count": null,
   "id": "eb7cb22c-aadc-4de5-9bc5-ebe7b30f4409",
   "metadata": {},
   "outputs": [],
   "source": [
    "query_results = embedding.embed_query(\"Hello World\")\n",
    "print(f\"Length : {len(query_results)}\")"
   ]
  },
  {
   "cell_type": "code",
   "execution_count": null,
   "id": "d3657b7d-0394-4b43-aeec-558e1f25d097",
   "metadata": {},
   "outputs": [],
   "source": [
    "pinecone.init(api_key=PINECONE_API_KEY,\n",
    "             environment=PINECONE_API_ENV)\n",
    "\n",
    "indes_name = \"index-name\"\n",
    "\n",
    "# Creating Embedding for Each of the Text Chunks and Storing\n",
    "doc_search = Pinecone.from_texts([t.page_content for t in text_chunks], embedding_text, index_name = indes_name)"
   ]
  },
  {
   "cell_type": "code",
   "execution_count": null,
   "id": "7830f14b-9bbd-4545-8b18-ead34041e2d6",
   "metadata": {},
   "outputs": [],
   "source": [
    "# if we already have an index we can load it like this\n",
    "doc_search = Pinecone.from_existing_index(index_name, embedding_text)\n",
    "\n",
    "query = \"What are Allergies\"\n",
    "\n",
    "docs = doc_search.similarity_search(query, k=3)\n",
    "print(f\"Results : {docs}\")"
   ]
  },
  {
   "cell_type": "code",
   "execution_count": null,
   "id": "8773d7b1-4ac0-499a-8952-0ce87796b025",
   "metadata": {},
   "outputs": [],
   "source": [
    "prompt_template = \"\"\"\n",
    "\n",
    "Use the following pieces of information to answer the user's question.\n",
    "If you don't know the answer, just say that you don't know, don't try to make up an answer.\n",
    "\n",
    "Context : {context}\n",
    "Question : {question}\n",
    "\n",
    "Only return the helpful answer belos and nothing else.\n",
    "Helpful answer:\n",
    "\n",
    "\n",
    "\"\"\""
   ]
  },
  {
   "cell_type": "code",
   "execution_count": null,
   "id": "546a45c6-a9b1-4d14-9034-7b956e882014",
   "metadata": {},
   "outputs": [],
   "source": [
    "PROMPT = PromptTemplate(template=prompt_template, input_variables=[\"context\", \"question\"])\n",
    "chain_type_kwarges = {\"prompt\":PROMPT}"
   ]
  },
  {
   "cell_type": "code",
   "execution_count": null,
   "id": "b3a3fd09-8ee6-4151-9148-acbe0de278e5",
   "metadata": {},
   "outputs": [],
   "source": [
    "llm = CTransformers(model = model,\n",
    "                   model_type=\"llama\",\n",
    "                   config={\"max_new_tokens\":512,\n",
    "                          \"temperature\":0.8})"
   ]
  },
  {
   "cell_type": "code",
   "execution_count": null,
   "id": "e1805630-4fd9-4b76-aea5-75dc6355489a",
   "metadata": {},
   "outputs": [],
   "source": [
    "question_answer = RetrivalQA.from_chain_type(\n",
    "    llm=llm,\n",
    "    chain_type=\"styff\",\n",
    "    retriver = doc_search.as_retriever(search_kwargs={\"k\":2}),\n",
    "    return_source_documents = True,\n",
    "    chain_type_kwargs = chain_type_kwargs\n",
    ")"
   ]
  },
  {
   "cell_type": "code",
   "execution_count": null,
   "id": "ab5a6273-cc47-4924-af87-e7d347bc7725",
   "metadata": {},
   "outputs": [],
   "source": [
    "while True:\n",
    "    user_input = input(f\"Input Prompt: \")\n",
    "    results = question_answer({\"query\":user_input})\n",
    "    print(\"Response : \", results[\"result\"])"
   ]
  },
  {
   "cell_type": "code",
   "execution_count": null,
   "id": "54ca7fcf-1e16-44a8-a4d1-3ff4524266d7",
   "metadata": {},
   "outputs": [],
   "source": []
  }
 ],
 "metadata": {
  "kernelspec": {
   "display_name": "Python 3 (ipykernel)",
   "language": "python",
   "name": "python3"
  },
  "language_info": {
   "codemirror_mode": {
    "name": "ipython",
    "version": 3
   },
   "file_extension": ".py",
   "mimetype": "text/x-python",
   "name": "python",
   "nbconvert_exporter": "python",
   "pygments_lexer": "ipython3",
   "version": "3.11.5"
  }
 },
 "nbformat": 4,
 "nbformat_minor": 5
}
